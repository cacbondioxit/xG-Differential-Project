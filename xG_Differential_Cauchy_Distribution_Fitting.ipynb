{
  "nbformat": 4,
  "nbformat_minor": 0,
  "metadata": {
    "colab": {
      "provenance": [],
      "authorship_tag": "ABX9TyMBbYxXPPzng/u+J0uyH0H1",
      "include_colab_link": true
    },
    "kernelspec": {
      "name": "python3",
      "display_name": "Python 3"
    },
    "language_info": {
      "name": "python"
    }
  },
  "cells": [
    {
      "cell_type": "markdown",
      "metadata": {
        "id": "view-in-github",
        "colab_type": "text"
      },
      "source": [
        "<a href=\"https://colab.research.google.com/github/cacbondioxit/xG-Differential-Project/blob/main/xG_Differential_Cauchy_Distribution_Fitting.ipynb\" target=\"_parent\"><img src=\"https://colab.research.google.com/assets/colab-badge.svg\" alt=\"Open In Colab\"/></a>"
      ]
    },
    {
      "cell_type": "markdown",
      "source": [
        "우리는 오늘 (G - xG) 혹은 xG Differential이라고 하는 값을 모델링하는 데에 Cauchy Distribution에 가장 적합함을 보일 것이고, (G - xG)가 Cauchy Distribution을 따를 경우 이를 어떻게 해석해야 할지 생각해볼 것이다."
      ],
      "metadata": {
        "id": "ZjobEi7SfUMt"
      }
    },
    {
      "cell_type": "code",
      "source": [
        "from google.colab import drive\n",
        "drive.mount('/content/drive')"
      ],
      "metadata": {
        "colab": {
          "base_uri": "https://localhost:8080/"
        },
        "id": "z060x3hC81rw",
        "outputId": "f6f6be85-2b68-4a88-b342-3665d1b2c269"
      },
      "execution_count": 1,
      "outputs": [
        {
          "output_type": "stream",
          "name": "stdout",
          "text": [
            "Mounted at /content/drive\n"
          ]
        }
      ]
    },
    {
      "cell_type": "code",
      "source": [
        "!pip install fitter"
      ],
      "metadata": {
        "colab": {
          "base_uri": "https://localhost:8080/"
        },
        "id": "Y_T16lShabLr",
        "outputId": "6eda46fd-b285-47dc-8add-4b226b3d98ec"
      },
      "execution_count": 25,
      "outputs": [
        {
          "output_type": "stream",
          "name": "stdout",
          "text": [
            "Looking in indexes: https://pypi.org/simple, https://us-python.pkg.dev/colab-wheels/public/simple/\n",
            "Requirement already satisfied: fitter in /usr/local/lib/python3.10/dist-packages (1.5.2)\n",
            "Requirement already satisfied: joblib in /usr/local/lib/python3.10/dist-packages (from fitter) (1.2.0)\n",
            "Requirement already satisfied: pandas in /usr/local/lib/python3.10/dist-packages (from fitter) (1.5.3)\n",
            "Requirement already satisfied: numpy in /usr/local/lib/python3.10/dist-packages (from fitter) (1.22.4)\n",
            "Requirement already satisfied: tqdm in /usr/local/lib/python3.10/dist-packages (from fitter) (4.65.0)\n",
            "Requirement already satisfied: click in /usr/local/lib/python3.10/dist-packages (from fitter) (8.1.3)\n",
            "Requirement already satisfied: scipy>=0.18 in /usr/local/lib/python3.10/dist-packages (from fitter) (1.10.1)\n",
            "Requirement already satisfied: matplotlib in /usr/local/lib/python3.10/dist-packages (from fitter) (3.7.1)\n",
            "Requirement already satisfied: python-dateutil>=2.7 in /usr/local/lib/python3.10/dist-packages (from matplotlib->fitter) (2.8.2)\n",
            "Requirement already satisfied: contourpy>=1.0.1 in /usr/local/lib/python3.10/dist-packages (from matplotlib->fitter) (1.0.7)\n",
            "Requirement already satisfied: fonttools>=4.22.0 in /usr/local/lib/python3.10/dist-packages (from matplotlib->fitter) (4.39.3)\n",
            "Requirement already satisfied: cycler>=0.10 in /usr/local/lib/python3.10/dist-packages (from matplotlib->fitter) (0.11.0)\n",
            "Requirement already satisfied: pillow>=6.2.0 in /usr/local/lib/python3.10/dist-packages (from matplotlib->fitter) (8.4.0)\n",
            "Requirement already satisfied: pyparsing>=2.3.1 in /usr/local/lib/python3.10/dist-packages (from matplotlib->fitter) (3.0.9)\n",
            "Requirement already satisfied: packaging>=20.0 in /usr/local/lib/python3.10/dist-packages (from matplotlib->fitter) (23.1)\n",
            "Requirement already satisfied: kiwisolver>=1.0.1 in /usr/local/lib/python3.10/dist-packages (from matplotlib->fitter) (1.4.4)\n",
            "Requirement already satisfied: pytz>=2020.1 in /usr/local/lib/python3.10/dist-packages (from pandas->fitter) (2022.7.1)\n",
            "Requirement already satisfied: six>=1.5 in /usr/local/lib/python3.10/dist-packages (from python-dateutil>=2.7->matplotlib->fitter) (1.16.0)\n"
          ]
        }
      ]
    },
    {
      "cell_type": "code",
      "execution_count": 2,
      "metadata": {
        "id": "wztBcccl8YOy"
      },
      "outputs": [],
      "source": [
        "# 데이터 불러오기\n",
        "\n",
        "import pandas as pd\n",
        "\n",
        "epl = []\n",
        "big_5 = []\n",
        "\n",
        "for i in range(2017, 2022):\n",
        "    df = pd.read_csv(f'/content/drive/MyDrive/xG Differential Project/Premier League Shooting Data/{i}-{i+1}.csv')\n",
        "    epl.append(df)\n",
        "    df = pd.read_csv(f'/content/drive/MyDrive/xG Differential Project/Big 5 European Leagues Shooting Data/{i}-{i+1}.csv')\n",
        "    big_5.append(df)"
      ]
    },
    {
      "cell_type": "code",
      "source": [
        "# 데이터프레임을 열이 커지는 방향으로 모두 합침\n",
        "\n",
        "df_concat_epl = pd.concat(epl)\n",
        "\n",
        "df_concat_epl"
      ],
      "metadata": {
        "colab": {
          "base_uri": "https://localhost:8080/",
          "height": 423
        },
        "id": "KJ0ixfPzJdKK",
        "outputId": "ed1495cf-dcf2-4083-ede0-4d44beeecae5"
      },
      "execution_count": 3,
      "outputs": [
        {
          "output_type": "execute_result",
          "data": {
            "text/plain": [
              "      Rk                Player   Nation   Pos            Squad  Age  Born  \\\n",
              "0      1   Patrick van Aanholt   nl NED    DF   Crystal Palace   26  1990   \n",
              "1      2        Rolando Aarons  eng ENG  MFFW    Newcastle Utd   21  1995   \n",
              "2      3         Tammy Abraham  eng ENG    FW     Swansea City   19  1997   \n",
              "3      4          Charlie Adam  sct SCO    MF       Stoke City   31  1985   \n",
              "4      5                Adrián   es ESP    GK         West Ham   30  1987   \n",
              "..   ...                   ...      ...   ...              ...  ...   ...   \n",
              "541  542  Christoph Zimmermann   de GER    DF     Norwich City   28  1993   \n",
              "542  543   Oleksandr Zinchenko   ua UKR    DF  Manchester City   24  1996   \n",
              "543  544          Hakim Ziyech   ma MAR  MFFW          Chelsea   28  1993   \n",
              "544  545            Kurt Zouma   fr FRA    DF         West Ham   26  1994   \n",
              "545  546       Martin Ødegaard   no NOR  MFFW          Arsenal   22  1998   \n",
              "\n",
              "      90s  Gls    Sh  ...    FK  PK  PKatt   xG  npxG  npxG/Sh  G-xG  np:G-xG  \\\n",
              "0    24.3    5  33.0  ...   4.0   0      0  3.1   3.1     0.09   1.9      1.9   \n",
              "1     1.5    0   2.0  ...   0.0   0      0  0.1   0.1     0.03  -0.1     -0.1   \n",
              "2    19.2    5  42.0  ...   0.0   0      0  6.8   6.8     0.16  -1.8     -1.8   \n",
              "3     4.6    0   9.0  ...   3.0   0      1  1.6   0.9     0.09  -1.6     -0.9   \n",
              "4    19.0    0   0.0  ...   0.0   0      0  0.0   0.0      NaN   0.0      0.0   \n",
              "..    ...  ...   ...  ...   ...  ..    ...  ...   ...      ...   ...      ...   \n",
              "541   1.7    0   2.0  ...   0.0   0      0  0.1   0.1     0.04  -0.1     -0.1   \n",
              "542  11.6    0  12.0  ...   0.0   0      0  0.6   0.6     0.05  -0.6     -0.6   \n",
              "543  14.7    4  52.0  ...   3.0   0      0  4.1   4.1     0.08  -0.1     -0.1   \n",
              "544  23.1    1   6.0  ...   0.0   0      0  0.9   0.9     0.15   0.1      0.1   \n",
              "545  30.9    7  53.0  ...  12.0   0      0  5.2   5.2     0.10   1.8      1.8   \n",
              "\n",
              "     Matches     -9999  \n",
              "0    Matches  5f09991f  \n",
              "1    Matches  c5942695  \n",
              "2    Matches  f586779e  \n",
              "3    Matches  aff418dc  \n",
              "4    Matches  f76e6b4e  \n",
              "..       ...       ...  \n",
              "541  Matches  2d5f03bf  \n",
              "542  Matches  51cf8561  \n",
              "543  Matches  6622454d  \n",
              "544  Matches  ce4246f5  \n",
              "545  Matches  79300479  \n",
              "\n",
              "[2637 rows x 27 columns]"
            ],
            "text/html": [
              "\n",
              "  <div id=\"df-6a25c02b-73ab-4583-9762-5737fdc9f306\">\n",
              "    <div class=\"colab-df-container\">\n",
              "      <div>\n",
              "<style scoped>\n",
              "    .dataframe tbody tr th:only-of-type {\n",
              "        vertical-align: middle;\n",
              "    }\n",
              "\n",
              "    .dataframe tbody tr th {\n",
              "        vertical-align: top;\n",
              "    }\n",
              "\n",
              "    .dataframe thead th {\n",
              "        text-align: right;\n",
              "    }\n",
              "</style>\n",
              "<table border=\"1\" class=\"dataframe\">\n",
              "  <thead>\n",
              "    <tr style=\"text-align: right;\">\n",
              "      <th></th>\n",
              "      <th>Rk</th>\n",
              "      <th>Player</th>\n",
              "      <th>Nation</th>\n",
              "      <th>Pos</th>\n",
              "      <th>Squad</th>\n",
              "      <th>Age</th>\n",
              "      <th>Born</th>\n",
              "      <th>90s</th>\n",
              "      <th>Gls</th>\n",
              "      <th>Sh</th>\n",
              "      <th>...</th>\n",
              "      <th>FK</th>\n",
              "      <th>PK</th>\n",
              "      <th>PKatt</th>\n",
              "      <th>xG</th>\n",
              "      <th>npxG</th>\n",
              "      <th>npxG/Sh</th>\n",
              "      <th>G-xG</th>\n",
              "      <th>np:G-xG</th>\n",
              "      <th>Matches</th>\n",
              "      <th>-9999</th>\n",
              "    </tr>\n",
              "  </thead>\n",
              "  <tbody>\n",
              "    <tr>\n",
              "      <th>0</th>\n",
              "      <td>1</td>\n",
              "      <td>Patrick van Aanholt</td>\n",
              "      <td>nl NED</td>\n",
              "      <td>DF</td>\n",
              "      <td>Crystal Palace</td>\n",
              "      <td>26</td>\n",
              "      <td>1990</td>\n",
              "      <td>24.3</td>\n",
              "      <td>5</td>\n",
              "      <td>33.0</td>\n",
              "      <td>...</td>\n",
              "      <td>4.0</td>\n",
              "      <td>0</td>\n",
              "      <td>0</td>\n",
              "      <td>3.1</td>\n",
              "      <td>3.1</td>\n",
              "      <td>0.09</td>\n",
              "      <td>1.9</td>\n",
              "      <td>1.9</td>\n",
              "      <td>Matches</td>\n",
              "      <td>5f09991f</td>\n",
              "    </tr>\n",
              "    <tr>\n",
              "      <th>1</th>\n",
              "      <td>2</td>\n",
              "      <td>Rolando Aarons</td>\n",
              "      <td>eng ENG</td>\n",
              "      <td>MFFW</td>\n",
              "      <td>Newcastle Utd</td>\n",
              "      <td>21</td>\n",
              "      <td>1995</td>\n",
              "      <td>1.5</td>\n",
              "      <td>0</td>\n",
              "      <td>2.0</td>\n",
              "      <td>...</td>\n",
              "      <td>0.0</td>\n",
              "      <td>0</td>\n",
              "      <td>0</td>\n",
              "      <td>0.1</td>\n",
              "      <td>0.1</td>\n",
              "      <td>0.03</td>\n",
              "      <td>-0.1</td>\n",
              "      <td>-0.1</td>\n",
              "      <td>Matches</td>\n",
              "      <td>c5942695</td>\n",
              "    </tr>\n",
              "    <tr>\n",
              "      <th>2</th>\n",
              "      <td>3</td>\n",
              "      <td>Tammy Abraham</td>\n",
              "      <td>eng ENG</td>\n",
              "      <td>FW</td>\n",
              "      <td>Swansea City</td>\n",
              "      <td>19</td>\n",
              "      <td>1997</td>\n",
              "      <td>19.2</td>\n",
              "      <td>5</td>\n",
              "      <td>42.0</td>\n",
              "      <td>...</td>\n",
              "      <td>0.0</td>\n",
              "      <td>0</td>\n",
              "      <td>0</td>\n",
              "      <td>6.8</td>\n",
              "      <td>6.8</td>\n",
              "      <td>0.16</td>\n",
              "      <td>-1.8</td>\n",
              "      <td>-1.8</td>\n",
              "      <td>Matches</td>\n",
              "      <td>f586779e</td>\n",
              "    </tr>\n",
              "    <tr>\n",
              "      <th>3</th>\n",
              "      <td>4</td>\n",
              "      <td>Charlie Adam</td>\n",
              "      <td>sct SCO</td>\n",
              "      <td>MF</td>\n",
              "      <td>Stoke City</td>\n",
              "      <td>31</td>\n",
              "      <td>1985</td>\n",
              "      <td>4.6</td>\n",
              "      <td>0</td>\n",
              "      <td>9.0</td>\n",
              "      <td>...</td>\n",
              "      <td>3.0</td>\n",
              "      <td>0</td>\n",
              "      <td>1</td>\n",
              "      <td>1.6</td>\n",
              "      <td>0.9</td>\n",
              "      <td>0.09</td>\n",
              "      <td>-1.6</td>\n",
              "      <td>-0.9</td>\n",
              "      <td>Matches</td>\n",
              "      <td>aff418dc</td>\n",
              "    </tr>\n",
              "    <tr>\n",
              "      <th>4</th>\n",
              "      <td>5</td>\n",
              "      <td>Adrián</td>\n",
              "      <td>es ESP</td>\n",
              "      <td>GK</td>\n",
              "      <td>West Ham</td>\n",
              "      <td>30</td>\n",
              "      <td>1987</td>\n",
              "      <td>19.0</td>\n",
              "      <td>0</td>\n",
              "      <td>0.0</td>\n",
              "      <td>...</td>\n",
              "      <td>0.0</td>\n",
              "      <td>0</td>\n",
              "      <td>0</td>\n",
              "      <td>0.0</td>\n",
              "      <td>0.0</td>\n",
              "      <td>NaN</td>\n",
              "      <td>0.0</td>\n",
              "      <td>0.0</td>\n",
              "      <td>Matches</td>\n",
              "      <td>f76e6b4e</td>\n",
              "    </tr>\n",
              "    <tr>\n",
              "      <th>...</th>\n",
              "      <td>...</td>\n",
              "      <td>...</td>\n",
              "      <td>...</td>\n",
              "      <td>...</td>\n",
              "      <td>...</td>\n",
              "      <td>...</td>\n",
              "      <td>...</td>\n",
              "      <td>...</td>\n",
              "      <td>...</td>\n",
              "      <td>...</td>\n",
              "      <td>...</td>\n",
              "      <td>...</td>\n",
              "      <td>...</td>\n",
              "      <td>...</td>\n",
              "      <td>...</td>\n",
              "      <td>...</td>\n",
              "      <td>...</td>\n",
              "      <td>...</td>\n",
              "      <td>...</td>\n",
              "      <td>...</td>\n",
              "      <td>...</td>\n",
              "    </tr>\n",
              "    <tr>\n",
              "      <th>541</th>\n",
              "      <td>542</td>\n",
              "      <td>Christoph Zimmermann</td>\n",
              "      <td>de GER</td>\n",
              "      <td>DF</td>\n",
              "      <td>Norwich City</td>\n",
              "      <td>28</td>\n",
              "      <td>1993</td>\n",
              "      <td>1.7</td>\n",
              "      <td>0</td>\n",
              "      <td>2.0</td>\n",
              "      <td>...</td>\n",
              "      <td>0.0</td>\n",
              "      <td>0</td>\n",
              "      <td>0</td>\n",
              "      <td>0.1</td>\n",
              "      <td>0.1</td>\n",
              "      <td>0.04</td>\n",
              "      <td>-0.1</td>\n",
              "      <td>-0.1</td>\n",
              "      <td>Matches</td>\n",
              "      <td>2d5f03bf</td>\n",
              "    </tr>\n",
              "    <tr>\n",
              "      <th>542</th>\n",
              "      <td>543</td>\n",
              "      <td>Oleksandr Zinchenko</td>\n",
              "      <td>ua UKR</td>\n",
              "      <td>DF</td>\n",
              "      <td>Manchester City</td>\n",
              "      <td>24</td>\n",
              "      <td>1996</td>\n",
              "      <td>11.6</td>\n",
              "      <td>0</td>\n",
              "      <td>12.0</td>\n",
              "      <td>...</td>\n",
              "      <td>0.0</td>\n",
              "      <td>0</td>\n",
              "      <td>0</td>\n",
              "      <td>0.6</td>\n",
              "      <td>0.6</td>\n",
              "      <td>0.05</td>\n",
              "      <td>-0.6</td>\n",
              "      <td>-0.6</td>\n",
              "      <td>Matches</td>\n",
              "      <td>51cf8561</td>\n",
              "    </tr>\n",
              "    <tr>\n",
              "      <th>543</th>\n",
              "      <td>544</td>\n",
              "      <td>Hakim Ziyech</td>\n",
              "      <td>ma MAR</td>\n",
              "      <td>MFFW</td>\n",
              "      <td>Chelsea</td>\n",
              "      <td>28</td>\n",
              "      <td>1993</td>\n",
              "      <td>14.7</td>\n",
              "      <td>4</td>\n",
              "      <td>52.0</td>\n",
              "      <td>...</td>\n",
              "      <td>3.0</td>\n",
              "      <td>0</td>\n",
              "      <td>0</td>\n",
              "      <td>4.1</td>\n",
              "      <td>4.1</td>\n",
              "      <td>0.08</td>\n",
              "      <td>-0.1</td>\n",
              "      <td>-0.1</td>\n",
              "      <td>Matches</td>\n",
              "      <td>6622454d</td>\n",
              "    </tr>\n",
              "    <tr>\n",
              "      <th>544</th>\n",
              "      <td>545</td>\n",
              "      <td>Kurt Zouma</td>\n",
              "      <td>fr FRA</td>\n",
              "      <td>DF</td>\n",
              "      <td>West Ham</td>\n",
              "      <td>26</td>\n",
              "      <td>1994</td>\n",
              "      <td>23.1</td>\n",
              "      <td>1</td>\n",
              "      <td>6.0</td>\n",
              "      <td>...</td>\n",
              "      <td>0.0</td>\n",
              "      <td>0</td>\n",
              "      <td>0</td>\n",
              "      <td>0.9</td>\n",
              "      <td>0.9</td>\n",
              "      <td>0.15</td>\n",
              "      <td>0.1</td>\n",
              "      <td>0.1</td>\n",
              "      <td>Matches</td>\n",
              "      <td>ce4246f5</td>\n",
              "    </tr>\n",
              "    <tr>\n",
              "      <th>545</th>\n",
              "      <td>546</td>\n",
              "      <td>Martin Ødegaard</td>\n",
              "      <td>no NOR</td>\n",
              "      <td>MFFW</td>\n",
              "      <td>Arsenal</td>\n",
              "      <td>22</td>\n",
              "      <td>1998</td>\n",
              "      <td>30.9</td>\n",
              "      <td>7</td>\n",
              "      <td>53.0</td>\n",
              "      <td>...</td>\n",
              "      <td>12.0</td>\n",
              "      <td>0</td>\n",
              "      <td>0</td>\n",
              "      <td>5.2</td>\n",
              "      <td>5.2</td>\n",
              "      <td>0.10</td>\n",
              "      <td>1.8</td>\n",
              "      <td>1.8</td>\n",
              "      <td>Matches</td>\n",
              "      <td>79300479</td>\n",
              "    </tr>\n",
              "  </tbody>\n",
              "</table>\n",
              "<p>2637 rows × 27 columns</p>\n",
              "</div>\n",
              "      <button class=\"colab-df-convert\" onclick=\"convertToInteractive('df-6a25c02b-73ab-4583-9762-5737fdc9f306')\"\n",
              "              title=\"Convert this dataframe to an interactive table.\"\n",
              "              style=\"display:none;\">\n",
              "        \n",
              "  <svg xmlns=\"http://www.w3.org/2000/svg\" height=\"24px\"viewBox=\"0 0 24 24\"\n",
              "       width=\"24px\">\n",
              "    <path d=\"M0 0h24v24H0V0z\" fill=\"none\"/>\n",
              "    <path d=\"M18.56 5.44l.94 2.06.94-2.06 2.06-.94-2.06-.94-.94-2.06-.94 2.06-2.06.94zm-11 1L8.5 8.5l.94-2.06 2.06-.94-2.06-.94L8.5 2.5l-.94 2.06-2.06.94zm10 10l.94 2.06.94-2.06 2.06-.94-2.06-.94-.94-2.06-.94 2.06-2.06.94z\"/><path d=\"M17.41 7.96l-1.37-1.37c-.4-.4-.92-.59-1.43-.59-.52 0-1.04.2-1.43.59L10.3 9.45l-7.72 7.72c-.78.78-.78 2.05 0 2.83L4 21.41c.39.39.9.59 1.41.59.51 0 1.02-.2 1.41-.59l7.78-7.78 2.81-2.81c.8-.78.8-2.07 0-2.86zM5.41 20L4 18.59l7.72-7.72 1.47 1.35L5.41 20z\"/>\n",
              "  </svg>\n",
              "      </button>\n",
              "      \n",
              "  <style>\n",
              "    .colab-df-container {\n",
              "      display:flex;\n",
              "      flex-wrap:wrap;\n",
              "      gap: 12px;\n",
              "    }\n",
              "\n",
              "    .colab-df-convert {\n",
              "      background-color: #E8F0FE;\n",
              "      border: none;\n",
              "      border-radius: 50%;\n",
              "      cursor: pointer;\n",
              "      display: none;\n",
              "      fill: #1967D2;\n",
              "      height: 32px;\n",
              "      padding: 0 0 0 0;\n",
              "      width: 32px;\n",
              "    }\n",
              "\n",
              "    .colab-df-convert:hover {\n",
              "      background-color: #E2EBFA;\n",
              "      box-shadow: 0px 1px 2px rgba(60, 64, 67, 0.3), 0px 1px 3px 1px rgba(60, 64, 67, 0.15);\n",
              "      fill: #174EA6;\n",
              "    }\n",
              "\n",
              "    [theme=dark] .colab-df-convert {\n",
              "      background-color: #3B4455;\n",
              "      fill: #D2E3FC;\n",
              "    }\n",
              "\n",
              "    [theme=dark] .colab-df-convert:hover {\n",
              "      background-color: #434B5C;\n",
              "      box-shadow: 0px 1px 3px 1px rgba(0, 0, 0, 0.15);\n",
              "      filter: drop-shadow(0px 1px 2px rgba(0, 0, 0, 0.3));\n",
              "      fill: #FFFFFF;\n",
              "    }\n",
              "  </style>\n",
              "\n",
              "      <script>\n",
              "        const buttonEl =\n",
              "          document.querySelector('#df-6a25c02b-73ab-4583-9762-5737fdc9f306 button.colab-df-convert');\n",
              "        buttonEl.style.display =\n",
              "          google.colab.kernel.accessAllowed ? 'block' : 'none';\n",
              "\n",
              "        async function convertToInteractive(key) {\n",
              "          const element = document.querySelector('#df-6a25c02b-73ab-4583-9762-5737fdc9f306');\n",
              "          const dataTable =\n",
              "            await google.colab.kernel.invokeFunction('convertToInteractive',\n",
              "                                                     [key], {});\n",
              "          if (!dataTable) return;\n",
              "\n",
              "          const docLinkHtml = 'Like what you see? Visit the ' +\n",
              "            '<a target=\"_blank\" href=https://colab.research.google.com/notebooks/data_table.ipynb>data table notebook</a>'\n",
              "            + ' to learn more about interactive tables.';\n",
              "          element.innerHTML = '';\n",
              "          dataTable['output_type'] = 'display_data';\n",
              "          await google.colab.output.renderOutput(dataTable, element);\n",
              "          const docLink = document.createElement('div');\n",
              "          docLink.innerHTML = docLinkHtml;\n",
              "          element.appendChild(docLink);\n",
              "        }\n",
              "      </script>\n",
              "    </div>\n",
              "  </div>\n",
              "  "
            ]
          },
          "metadata": {},
          "execution_count": 3
        }
      ]
    },
    {
      "cell_type": "code",
      "source": [
        "df_concat_big_5 = pd.concat(big_5)"
      ],
      "metadata": {
        "id": "2fi6qn9_QdDK"
      },
      "execution_count": 4,
      "outputs": []
    },
    {
      "cell_type": "code",
      "source": [
        "import seaborn as sns\n",
        "\n",
        "# 선수들의 슈팅 수의 분포를 확인. 5대 리그를 통틀어 단 한 번도 슈팅을 못한 선수들이 가장 많다.\n",
        "sns.distplot(df_concat_big_5[\"Sh\"], kde=False).set(title='The Distribution of the number of shooting(Big 5 European Leagues)')"
      ],
      "metadata": {
        "colab": {
          "base_uri": "https://localhost:8080/",
          "height": 690
        },
        "id": "QXv7oov5JiOC",
        "outputId": "cf1748f0-4945-431e-aca4-5081faf996c9"
      },
      "execution_count": 5,
      "outputs": [
        {
          "output_type": "stream",
          "name": "stderr",
          "text": [
            "<ipython-input-5-8707ab587b82>:4: UserWarning: \n",
            "\n",
            "`distplot` is a deprecated function and will be removed in seaborn v0.14.0.\n",
            "\n",
            "Please adapt your code to use either `displot` (a figure-level function with\n",
            "similar flexibility) or `histplot` (an axes-level function for histograms).\n",
            "\n",
            "For a guide to updating your code to use the new functions, please see\n",
            "https://gist.github.com/mwaskom/de44147ed2974457ad6372750bbe5751\n",
            "\n",
            "  sns.distplot(df_concat_big_5[\"Sh\"], kde=False).set(title='The Distribution of the number of shooting(Big 5 European Leagues)')\n"
          ]
        },
        {
          "output_type": "execute_result",
          "data": {
            "text/plain": [
              "[Text(0.5, 1.0, 'The Distribution of the number of shooting(Big 5 European Leagues)')]"
            ]
          },
          "metadata": {},
          "execution_count": 5
        },
        {
          "output_type": "display_data",
          "data": {
            "text/plain": [
              "<Figure size 640x480 with 1 Axes>"
            ],
            "image/png": "[encoded data removed]"
          },
          "metadata": {}
        }
      ]
    },
    {
      "cell_type": "code",
      "source": [
        "sns.distplot(df_concat_epl[\"Sh\"], kde=False).set(title='The Distribution of the number of shooting(EPL)')"
      ],
      "metadata": {
        "colab": {
          "base_uri": "https://localhost:8080/",
          "height": 690
        },
        "id": "0RqGjnPeVof5",
        "outputId": "72b44c13-e720-4ac3-ec39-7611d5a4407c"
      },
      "execution_count": 6,
      "outputs": [
        {
          "output_type": "stream",
          "name": "stderr",
          "text": [
            "<ipython-input-6-6ec638c9a751>:1: UserWarning: \n",
            "\n",
            "`distplot` is a deprecated function and will be removed in seaborn v0.14.0.\n",
            "\n",
            "Please adapt your code to use either `displot` (a figure-level function with\n",
            "similar flexibility) or `histplot` (an axes-level function for histograms).\n",
            "\n",
            "For a guide to updating your code to use the new functions, please see\n",
            "https://gist.github.com/mwaskom/de44147ed2974457ad6372750bbe5751\n",
            "\n",
            "  sns.distplot(df_concat_epl[\"Sh\"], kde=False).set(title='The Distribution of the number of shooting(EPL)')\n"
          ]
        },
        {
          "output_type": "execute_result",
          "data": {
            "text/plain": [
              "[Text(0.5, 1.0, 'The Distribution of the number of shooting(EPL)')]"
            ]
          },
          "metadata": {},
          "execution_count": 6
        },
        {
          "output_type": "display_data",
          "data": {
            "text/plain": [
              "<Figure size 640x480 with 1 Axes>"
            ],
            "image/png": "[encoded data removed]"
          },
          "metadata": {}
        }
      ]
    },
    {
      "cell_type": "code",
      "source": [
        "# 참고로 제목에 한글을 넣으면 깨진다..."
      ],
      "metadata": {
        "id": "G96C9nbUQYnQ"
      },
      "execution_count": null,
      "outputs": []
    },
    {
      "cell_type": "code",
      "source": [
        "# 선수들의 슈팅 수가 5회 이상인 데이터가 몇 %인지 확인하자. 대략 전체의 절반 정도 됨을 알 수 있다.\n",
        "\n",
        "df_Sh_5 = df_concat_big_5[df_concat_big_5[\"Sh\"] >= 5]\n",
        "\n",
        "len(df_Sh_5) / len(df_concat_big_5)"
      ],
      "metadata": {
        "colab": {
          "base_uri": "https://localhost:8080/"
        },
        "id": "sMDM15Y7KqOK",
        "outputId": "cac5539b-6a8a-4931-a708-4ffd75bb6b14"
      },
      "execution_count": 39,
      "outputs": [
        {
          "output_type": "execute_result",
          "data": {
            "text/plain": [
              "0.62733323686876"
            ]
          },
          "metadata": {},
          "execution_count": 39
        }
      ]
    },
    {
      "cell_type": "code",
      "source": [
        "# 5대 리그에서 (실제 득점 - 기대 득점) 값의 분포를 확인. 이 분포가 Cauchy Distribution인지 fit해볼 것이다.\n",
        "\n",
        "sns.displot(df_Sh_5['G-xG']).set(title='The Distribution of the (Goals - xG) (Big 5 European Leagues)')"
      ],
      "metadata": {
        "colab": {
          "base_uri": "https://localhost:8080/",
          "height": 547
        },
        "id": "Gba99-_uPjNe",
        "outputId": "da777588-19c9-4983-80e0-6bfd1b01a586"
      },
      "execution_count": 41,
      "outputs": [
        {
          "output_type": "execute_result",
          "data": {
            "text/plain": [
              "<seaborn.axisgrid.FacetGrid at 0x7f5ab236d6c0>"
            ]
          },
          "metadata": {},
          "execution_count": 41
        },
        {
          "output_type": "display_data",
          "data": {
            "text/plain": [
              "<Figure size 500x500 with 1 Axes>"
            ],
            "image/png": "[encoded data removed]"
          },
          "metadata": {}
        }
      ]
    },
    {
      "cell_type": "code",
      "source": [
        "sns.displot(df_concat_epl[df_concat_epl[\"Sh\"] >= 5]['G-xG']).set(title='The Distribution of the (Goals - xG) (EPL)')"
      ],
      "metadata": {
        "colab": {
          "base_uri": "https://localhost:8080/",
          "height": 547
        },
        "id": "ShDPlsRkg3wM",
        "outputId": "b499f602-1a2c-44de-f8f2-5baabe0bb062"
      },
      "execution_count": 42,
      "outputs": [
        {
          "output_type": "execute_result",
          "data": {
            "text/plain": [
              "<seaborn.axisgrid.FacetGrid at 0x7f5ab236d420>"
            ]
          },
          "metadata": {},
          "execution_count": 42
        },
        {
          "output_type": "display_data",
          "data": {
            "text/plain": [
              "<Figure size 500x500 with 1 Axes>"
            ],
            "image/png": "[encoded data removed]"
          },
          "metadata": {}
        }
      ]
    },
    {
      "cell_type": "code",
      "source": [
        "df_Sh_5['G-xG'].isnull().sum() # 결측치 개수"
      ],
      "metadata": {
        "colab": {
          "base_uri": "https://localhost:8080/"
        },
        "id": "6wYS2naQZ1Q6",
        "outputId": "1ec82751-710f-4ce3-f876-d795cce2da64"
      },
      "execution_count": 43,
      "outputs": [
        {
          "output_type": "execute_result",
          "data": {
            "text/plain": [
              "2"
            ]
          },
          "metadata": {},
          "execution_count": 43
        }
      ]
    },
    {
      "cell_type": "code",
      "source": [
        "# 이제 득점 - xG값이 Cauchy Distribution에 가장 근접함을 보일 것이다.\n",
        "\n",
        "from fitter import Fitter, get_common_distributions\n",
        "\n",
        "G_minus_xG_europe = df_Sh_5['G-xG'].dropna().values\n",
        "f = Fitter(G_minus_xG_europe,\n",
        "           distributions=get_common_distributions())\n",
        "f.fit()\n",
        "f.summary()"
      ],
      "metadata": {
        "colab": {
          "base_uri": "https://localhost:8080/",
          "height": 637
        },
        "id": "pEFvyEymZaph",
        "outputId": "24b7c555-1f90-4b35-a6d7-9cbf29045a1e"
      },
      "execution_count": 49,
      "outputs": [
        {
          "output_type": "stream",
          "name": "stderr",
          "text": [
            "Fitting 10 distributions: 100%|██████████| 10/10 [00:01<00:00,  6.15it/s]\n"
          ]
        },
        {
          "output_type": "execute_result",
          "data": {
            "text/plain": [
              "          sumsquare_error          aic           bic  kl_div  ks_statistic  \\\n",
              "cauchy           0.086847   908.042246 -99771.691626     inf      0.069613   \n",
              "lognorm          0.152052  1975.066869 -94907.355344     inf      0.082903   \n",
              "gamma            0.154537  2004.794158 -94766.848344     inf      0.084889   \n",
              "norm             0.167461  2140.870651 -94079.635101     inf      0.095520   \n",
              "rayleigh         0.801580   705.857323 -80505.422723     inf      0.397018   \n",
              "\n",
              "             ks_pvalue  \n",
              "cauchy    5.669387e-37  \n",
              "lognorm   2.802984e-52  \n",
              "gamma     8.499814e-55  \n",
              "norm      2.707870e-69  \n",
              "rayleigh  0.000000e+00  "
            ],
            "text/html": [
              "\n",
              "  <div id=\"df-dddfe506-0bd9-48d8-9951-65198569641d\">\n",
              "    <div class=\"colab-df-container\">\n",
              "      <div>\n",
              "<style scoped>\n",
              "    .dataframe tbody tr th:only-of-type {\n",
              "        vertical-align: middle;\n",
              "    }\n",
              "\n",
              "    .dataframe tbody tr th {\n",
              "        vertical-align: top;\n",
              "    }\n",
              "\n",
              "    .dataframe thead th {\n",
              "        text-align: right;\n",
              "    }\n",
              "</style>\n",
              "<table border=\"1\" class=\"dataframe\">\n",
              "  <thead>\n",
              "    <tr style=\"text-align: right;\">\n",
              "      <th></th>\n",
              "      <th>sumsquare_error</th>\n",
              "      <th>aic</th>\n",
              "      <th>bic</th>\n",
              "      <th>kl_div</th>\n",
              "      <th>ks_statistic</th>\n",
              "      <th>ks_pvalue</th>\n",
              "    </tr>\n",
              "  </thead>\n",
              "  <tbody>\n",
              "    <tr>\n",
              "      <th>cauchy</th>\n",
              "      <td>0.086847</td>\n",
              "      <td>908.042246</td>\n",
              "      <td>-99771.691626</td>\n",
              "      <td>inf</td>\n",
              "      <td>0.069613</td>\n",
              "      <td>5.669387e-37</td>\n",
              "    </tr>\n",
              "    <tr>\n",
              "      <th>lognorm</th>\n",
              "      <td>0.152052</td>\n",
              "      <td>1975.066869</td>\n",
              "      <td>-94907.355344</td>\n",
              "      <td>inf</td>\n",
              "      <td>0.082903</td>\n",
              "      <td>2.802984e-52</td>\n",
              "    </tr>\n",
              "    <tr>\n",
              "      <th>gamma</th>\n",
              "      <td>0.154537</td>\n",
              "      <td>2004.794158</td>\n",
              "      <td>-94766.848344</td>\n",
              "      <td>inf</td>\n",
              "      <td>0.084889</td>\n",
              "      <td>8.499814e-55</td>\n",
              "    </tr>\n",
              "    <tr>\n",
              "      <th>norm</th>\n",
              "      <td>0.167461</td>\n",
              "      <td>2140.870651</td>\n",
              "      <td>-94079.635101</td>\n",
              "      <td>inf</td>\n",
              "      <td>0.095520</td>\n",
              "      <td>2.707870e-69</td>\n",
              "    </tr>\n",
              "    <tr>\n",
              "      <th>rayleigh</th>\n",
              "      <td>0.801580</td>\n",
              "      <td>705.857323</td>\n",
              "      <td>-80505.422723</td>\n",
              "      <td>inf</td>\n",
              "      <td>0.397018</td>\n",
              "      <td>0.000000e+00</td>\n",
              "    </tr>\n",
              "  </tbody>\n",
              "</table>\n",
              "</div>\n",
              "      <button class=\"colab-df-convert\" onclick=\"convertToInteractive('df-dddfe506-0bd9-48d8-9951-65198569641d')\"\n",
              "              title=\"Convert this dataframe to an interactive table.\"\n",
              "              style=\"display:none;\">\n",
              "        \n",
              "  <svg xmlns=\"http://www.w3.org/2000/svg\" height=\"24px\"viewBox=\"0 0 24 24\"\n",
              "       width=\"24px\">\n",
              "    <path d=\"M0 0h24v24H0V0z\" fill=\"none\"/>\n",
              "    <path d=\"M18.56 5.44l.94 2.06.94-2.06 2.06-.94-2.06-.94-.94-2.06-.94 2.06-2.06.94zm-11 1L8.5 8.5l.94-2.06 2.06-.94-2.06-.94L8.5 2.5l-.94 2.06-2.06.94zm10 10l.94 2.06.94-2.06 2.06-.94-2.06-.94-.94-2.06-.94 2.06-2.06.94z\"/><path d=\"M17.41 7.96l-1.37-1.37c-.4-.4-.92-.59-1.43-.59-.52 0-1.04.2-1.43.59L10.3 9.45l-7.72 7.72c-.78.78-.78 2.05 0 2.83L4 21.41c.39.39.9.59 1.41.59.51 0 1.02-.2 1.41-.59l7.78-7.78 2.81-2.81c.8-.78.8-2.07 0-2.86zM5.41 20L4 18.59l7.72-7.72 1.47 1.35L5.41 20z\"/>\n",
              "  </svg>\n",
              "      </button>\n",
              "      \n",
              "  <style>\n",
              "    .colab-df-container {\n",
              "      display:flex;\n",
              "      flex-wrap:wrap;\n",
              "      gap: 12px;\n",
              "    }\n",
              "\n",
              "    .colab-df-convert {\n",
              "      background-color: #E8F0FE;\n",
              "      border: none;\n",
              "      border-radius: 50%;\n",
              "      cursor: pointer;\n",
              "      display: none;\n",
              "      fill: #1967D2;\n",
              "      height: 32px;\n",
              "      padding: 0 0 0 0;\n",
              "      width: 32px;\n",
              "    }\n",
              "\n",
              "    .colab-df-convert:hover {\n",
              "      background-color: #E2EBFA;\n",
              "      box-shadow: 0px 1px 2px rgba(60, 64, 67, 0.3), 0px 1px 3px 1px rgba(60, 64, 67, 0.15);\n",
              "      fill: #174EA6;\n",
              "    }\n",
              "\n",
              "    [theme=dark] .colab-df-convert {\n",
              "      background-color: #3B4455;\n",
              "      fill: #D2E3FC;\n",
              "    }\n",
              "\n",
              "    [theme=dark] .colab-df-convert:hover {\n",
              "      background-color: #434B5C;\n",
              "      box-shadow: 0px 1px 3px 1px rgba(0, 0, 0, 0.15);\n",
              "      filter: drop-shadow(0px 1px 2px rgba(0, 0, 0, 0.3));\n",
              "      fill: #FFFFFF;\n",
              "    }\n",
              "  </style>\n",
              "\n",
              "      <script>\n",
              "        const buttonEl =\n",
              "          document.querySelector('#df-dddfe506-0bd9-48d8-9951-65198569641d button.colab-df-convert');\n",
              "        buttonEl.style.display =\n",
              "          google.colab.kernel.accessAllowed ? 'block' : 'none';\n",
              "\n",
              "        async function convertToInteractive(key) {\n",
              "          const element = document.querySelector('#df-dddfe506-0bd9-48d8-9951-65198569641d');\n",
              "          const dataTable =\n",
              "            await google.colab.kernel.invokeFunction('convertToInteractive',\n",
              "                                                     [key], {});\n",
              "          if (!dataTable) return;\n",
              "\n",
              "          const docLinkHtml = 'Like what you see? Visit the ' +\n",
              "            '<a target=\"_blank\" href=https://colab.research.google.com/notebooks/data_table.ipynb>data table notebook</a>'\n",
              "            + ' to learn more about interactive tables.';\n",
              "          element.innerHTML = '';\n",
              "          dataTable['output_type'] = 'display_data';\n",
              "          await google.colab.output.renderOutput(dataTable, element);\n",
              "          const docLink = document.createElement('div');\n",
              "          docLink.innerHTML = docLinkHtml;\n",
              "          element.appendChild(docLink);\n",
              "        }\n",
              "      </script>\n",
              "    </div>\n",
              "  </div>\n",
              "  "
            ]
          },
          "metadata": {},
          "execution_count": 49
        },
        {
          "output_type": "display_data",
          "data": {
            "text/plain": [
              "<Figure size 640x480 with 1 Axes>"
            ],
            "image/png": "[encoded data removed]"
          },
          "metadata": {}
        }
      ]
    },
    {
      "cell_type": "code",
      "source": [
        "f.get_best(method='sumsquare_error')"
      ],
      "metadata": {
        "colab": {
          "base_uri": "https://localhost:8080/"
        },
        "id": "hait-Ybpa3Ig",
        "outputId": "82be89f7-a5bb-408f-afb1-cedba664b782"
      },
      "execution_count": 50,
      "outputs": [
        {
          "output_type": "execute_result",
          "data": {
            "text/plain": [
              "{'cauchy': {'loc': -0.2948673993931151, 'scale': 0.6329992797801969}}"
            ]
          },
          "metadata": {},
          "execution_count": 50
        }
      ]
    },
    {
      "cell_type": "markdown",
      "source": [
        "이처럼 (득점 - xG)값을 모델링하는 데에는 Cauchy Distribution이 가장 적합하다는 결론이 나왔다. 이는 무슨 의미일까?\n",
        "\n",
        "축구에서 (G - xG) 값은 다양한 요인이 영향을 미칠 수 있는 값인데, (G - xG) 값이 Cauchy Distribution을 따른다는 것은 이 값이 극단적인 이상치(Outlier) 값이 발생할 가능성이 크다는 것을 의미한다. Cauchy 분포는 극단값이 상대적으로 더 자주 발생하는 fat-tailed 분포이기 때문에, 아웃라이어의 발생이 더 높아진다. 따라서 (G - xG) 값은 선수에 따라 매우 크거나 작을 확률이 높기 때문에, (G - xG)가 가지는 불안정성을 고려해야 한다. 예를 들어 동일한 선수라 하더라도 경기 상황이나 상대 팀의 방어력, 득점 기회의 수에 따라 (G - xG)의 값이 크게 차이날 수 있다. 또한 누군가는 특정한 조건에서 골을 더 많이 넣는 경향이 있을 수 있다. 그리고 그런 선수가 특정 경기에서는 더욱 높은 득점을 기록할 수도 있다.\n",
        "\n",
        "이러한 특성 때문에 (G - xG)값은 선수의 일관적인 특성을 잘 반영하지 못한다고 평가할 수 있다. 이 값의 신뢰성이 떨어진다는 것이다. 예를 들어 선수를 평가하는 기계학습 모델에 (G - xG)를 입력 변수(피처)로 넣었을 때 모델의 예측력을 저하시키는 노이즈 값으로 작용할 가능성이 높다. ML 모델을 구축하는 데에 익숙하다면 이상치를 제거하거나 대체할 방법을 떠올리겠지만, 이는 코시 분포의 특성을 무시하는 것과 같다.\n",
        "\n",
        "또한 Cauchy 분포는 평균과 분산이 정의되지 않는다. 그러므로 G-xG의 표본평균이나 표본분산을 계산하는 것은 의미 없을 수 있다.\n",
        "\n",
        "\n"
      ],
      "metadata": {
        "id": "LGV0vwlUfSfX"
      }
    }
  ]
}